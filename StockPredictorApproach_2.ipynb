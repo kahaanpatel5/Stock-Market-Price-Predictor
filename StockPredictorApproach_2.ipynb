{
  "cells": [
    {
      "cell_type": "markdown",
      "metadata": {
        "id": "view-in-github",
        "colab_type": "text"
      },
      "source": [
        "<a href=\"https://colab.research.google.com/github/kahaanpatel5/Stock-Market-Price-Predictor/blob/main/StockPredictorApproach_2.ipynb\" target=\"_parent\"><img src=\"https://colab.research.google.com/assets/colab-badge.svg\" alt=\"Open In Colab\"/></a>"
      ]
    },
    {
      "cell_type": "code",
      "execution_count": 1,
      "id": "3f4d6d48",
      "metadata": {
        "id": "3f4d6d48"
      },
      "outputs": [],
      "source": [
        "import yfinance as yf\n",
        "import numpy as np\n",
        "import pandas as pd\n",
        "import matplotlib.pyplot as plt"
      ]
    },
    {
      "cell_type": "code",
      "execution_count": 2,
      "id": "59d9158a",
      "metadata": {
        "colab": {
          "base_uri": "https://localhost:8080/"
        },
        "id": "59d9158a",
        "outputId": "505ac6c3-3d77-4f7f-e277-df082d1ec1be"
      },
      "outputs": [
        {
          "output_type": "stream",
          "name": "stdout",
          "text": [
            "\r[*********************100%***********************]  1 of 1 completed\n"
          ]
        }
      ],
      "source": [
        "df=yf.download('^BSESN',start='2010-01-01')"
      ]
    },
    {
      "cell_type": "code",
      "execution_count": 3,
      "id": "472267ad",
      "metadata": {
        "scrolled": false,
        "colab": {
          "base_uri": "https://localhost:8080/",
          "height": 455
        },
        "id": "472267ad",
        "outputId": "52516b12-224e-4e95-c28d-ed04caed39c0"
      },
      "outputs": [
        {
          "output_type": "execute_result",
          "data": {
            "text/plain": [
              "                    Open          High           Low         Close  \\\n",
              "Date                                                                 \n",
              "2010-01-04  17473.449219  17582.839844  17378.380859  17558.730469   \n",
              "2010-01-05  17555.769531  17729.779297  17555.769531  17686.240234   \n",
              "2010-01-06  17719.470703  17790.330078  17636.710938  17701.130859   \n",
              "2010-01-07  17701.970703  17733.339844  17566.539062  17615.720703   \n",
              "2010-01-08  17603.869141  17658.119141  17508.960938  17540.289062   \n",
              "...                  ...           ...           ...           ...   \n",
              "2022-07-06  53170.699219  53819.308594  53143.281250  53750.968750   \n",
              "2022-07-07  54146.679688  54254.789062  53927.261719  54178.460938   \n",
              "2022-07-08  54574.429688  54627.140625  54278.769531  54481.839844   \n",
              "2022-07-11  54248.601562  54527.898438  54090.531250  54395.230469   \n",
              "2022-07-12  54219.781250  54236.488281  53824.968750  53886.609375   \n",
              "\n",
              "               Adj Close  Volume  \n",
              "Date                              \n",
              "2010-01-04  17558.730469   28200  \n",
              "2010-01-05  17686.240234   27000  \n",
              "2010-01-06  17701.130859   21400  \n",
              "2010-01-07  17615.720703   18000  \n",
              "2010-01-08  17540.289062   17200  \n",
              "...                  ...     ...  \n",
              "2022-07-06  53750.968750   14800  \n",
              "2022-07-07  54178.460938    7500  \n",
              "2022-07-08  54481.839844    7500  \n",
              "2022-07-11  54395.230469    6100  \n",
              "2022-07-12  53886.609375       0  \n",
              "\n",
              "[3079 rows x 6 columns]"
            ],
            "text/html": [
              "\n",
              "  <div id=\"df-f8c5a054-d77b-4809-ad80-4f472b7abdf8\">\n",
              "    <div class=\"colab-df-container\">\n",
              "      <div>\n",
              "<style scoped>\n",
              "    .dataframe tbody tr th:only-of-type {\n",
              "        vertical-align: middle;\n",
              "    }\n",
              "\n",
              "    .dataframe tbody tr th {\n",
              "        vertical-align: top;\n",
              "    }\n",
              "\n",
              "    .dataframe thead th {\n",
              "        text-align: right;\n",
              "    }\n",
              "</style>\n",
              "<table border=\"1\" class=\"dataframe\">\n",
              "  <thead>\n",
              "    <tr style=\"text-align: right;\">\n",
              "      <th></th>\n",
              "      <th>Open</th>\n",
              "      <th>High</th>\n",
              "      <th>Low</th>\n",
              "      <th>Close</th>\n",
              "      <th>Adj Close</th>\n",
              "      <th>Volume</th>\n",
              "    </tr>\n",
              "    <tr>\n",
              "      <th>Date</th>\n",
              "      <th></th>\n",
              "      <th></th>\n",
              "      <th></th>\n",
              "      <th></th>\n",
              "      <th></th>\n",
              "      <th></th>\n",
              "    </tr>\n",
              "  </thead>\n",
              "  <tbody>\n",
              "    <tr>\n",
              "      <th>2010-01-04</th>\n",
              "      <td>17473.449219</td>\n",
              "      <td>17582.839844</td>\n",
              "      <td>17378.380859</td>\n",
              "      <td>17558.730469</td>\n",
              "      <td>17558.730469</td>\n",
              "      <td>28200</td>\n",
              "    </tr>\n",
              "    <tr>\n",
              "      <th>2010-01-05</th>\n",
              "      <td>17555.769531</td>\n",
              "      <td>17729.779297</td>\n",
              "      <td>17555.769531</td>\n",
              "      <td>17686.240234</td>\n",
              "      <td>17686.240234</td>\n",
              "      <td>27000</td>\n",
              "    </tr>\n",
              "    <tr>\n",
              "      <th>2010-01-06</th>\n",
              "      <td>17719.470703</td>\n",
              "      <td>17790.330078</td>\n",
              "      <td>17636.710938</td>\n",
              "      <td>17701.130859</td>\n",
              "      <td>17701.130859</td>\n",
              "      <td>21400</td>\n",
              "    </tr>\n",
              "    <tr>\n",
              "      <th>2010-01-07</th>\n",
              "      <td>17701.970703</td>\n",
              "      <td>17733.339844</td>\n",
              "      <td>17566.539062</td>\n",
              "      <td>17615.720703</td>\n",
              "      <td>17615.720703</td>\n",
              "      <td>18000</td>\n",
              "    </tr>\n",
              "    <tr>\n",
              "      <th>2010-01-08</th>\n",
              "      <td>17603.869141</td>\n",
              "      <td>17658.119141</td>\n",
              "      <td>17508.960938</td>\n",
              "      <td>17540.289062</td>\n",
              "      <td>17540.289062</td>\n",
              "      <td>17200</td>\n",
              "    </tr>\n",
              "    <tr>\n",
              "      <th>...</th>\n",
              "      <td>...</td>\n",
              "      <td>...</td>\n",
              "      <td>...</td>\n",
              "      <td>...</td>\n",
              "      <td>...</td>\n",
              "      <td>...</td>\n",
              "    </tr>\n",
              "    <tr>\n",
              "      <th>2022-07-06</th>\n",
              "      <td>53170.699219</td>\n",
              "      <td>53819.308594</td>\n",
              "      <td>53143.281250</td>\n",
              "      <td>53750.968750</td>\n",
              "      <td>53750.968750</td>\n",
              "      <td>14800</td>\n",
              "    </tr>\n",
              "    <tr>\n",
              "      <th>2022-07-07</th>\n",
              "      <td>54146.679688</td>\n",
              "      <td>54254.789062</td>\n",
              "      <td>53927.261719</td>\n",
              "      <td>54178.460938</td>\n",
              "      <td>54178.460938</td>\n",
              "      <td>7500</td>\n",
              "    </tr>\n",
              "    <tr>\n",
              "      <th>2022-07-08</th>\n",
              "      <td>54574.429688</td>\n",
              "      <td>54627.140625</td>\n",
              "      <td>54278.769531</td>\n",
              "      <td>54481.839844</td>\n",
              "      <td>54481.839844</td>\n",
              "      <td>7500</td>\n",
              "    </tr>\n",
              "    <tr>\n",
              "      <th>2022-07-11</th>\n",
              "      <td>54248.601562</td>\n",
              "      <td>54527.898438</td>\n",
              "      <td>54090.531250</td>\n",
              "      <td>54395.230469</td>\n",
              "      <td>54395.230469</td>\n",
              "      <td>6100</td>\n",
              "    </tr>\n",
              "    <tr>\n",
              "      <th>2022-07-12</th>\n",
              "      <td>54219.781250</td>\n",
              "      <td>54236.488281</td>\n",
              "      <td>53824.968750</td>\n",
              "      <td>53886.609375</td>\n",
              "      <td>53886.609375</td>\n",
              "      <td>0</td>\n",
              "    </tr>\n",
              "  </tbody>\n",
              "</table>\n",
              "<p>3079 rows × 6 columns</p>\n",
              "</div>\n",
              "      <button class=\"colab-df-convert\" onclick=\"convertToInteractive('df-f8c5a054-d77b-4809-ad80-4f472b7abdf8')\"\n",
              "              title=\"Convert this dataframe to an interactive table.\"\n",
              "              style=\"display:none;\">\n",
              "        \n",
              "  <svg xmlns=\"http://www.w3.org/2000/svg\" height=\"24px\"viewBox=\"0 0 24 24\"\n",
              "       width=\"24px\">\n",
              "    <path d=\"M0 0h24v24H0V0z\" fill=\"none\"/>\n",
              "    <path d=\"M18.56 5.44l.94 2.06.94-2.06 2.06-.94-2.06-.94-.94-2.06-.94 2.06-2.06.94zm-11 1L8.5 8.5l.94-2.06 2.06-.94-2.06-.94L8.5 2.5l-.94 2.06-2.06.94zm10 10l.94 2.06.94-2.06 2.06-.94-2.06-.94-.94-2.06-.94 2.06-2.06.94z\"/><path d=\"M17.41 7.96l-1.37-1.37c-.4-.4-.92-.59-1.43-.59-.52 0-1.04.2-1.43.59L10.3 9.45l-7.72 7.72c-.78.78-.78 2.05 0 2.83L4 21.41c.39.39.9.59 1.41.59.51 0 1.02-.2 1.41-.59l7.78-7.78 2.81-2.81c.8-.78.8-2.07 0-2.86zM5.41 20L4 18.59l7.72-7.72 1.47 1.35L5.41 20z\"/>\n",
              "  </svg>\n",
              "      </button>\n",
              "      \n",
              "  <style>\n",
              "    .colab-df-container {\n",
              "      display:flex;\n",
              "      flex-wrap:wrap;\n",
              "      gap: 12px;\n",
              "    }\n",
              "\n",
              "    .colab-df-convert {\n",
              "      background-color: #E8F0FE;\n",
              "      border: none;\n",
              "      border-radius: 50%;\n",
              "      cursor: pointer;\n",
              "      display: none;\n",
              "      fill: #1967D2;\n",
              "      height: 32px;\n",
              "      padding: 0 0 0 0;\n",
              "      width: 32px;\n",
              "    }\n",
              "\n",
              "    .colab-df-convert:hover {\n",
              "      background-color: #E2EBFA;\n",
              "      box-shadow: 0px 1px 2px rgba(60, 64, 67, 0.3), 0px 1px 3px 1px rgba(60, 64, 67, 0.15);\n",
              "      fill: #174EA6;\n",
              "    }\n",
              "\n",
              "    [theme=dark] .colab-df-convert {\n",
              "      background-color: #3B4455;\n",
              "      fill: #D2E3FC;\n",
              "    }\n",
              "\n",
              "    [theme=dark] .colab-df-convert:hover {\n",
              "      background-color: #434B5C;\n",
              "      box-shadow: 0px 1px 3px 1px rgba(0, 0, 0, 0.15);\n",
              "      filter: drop-shadow(0px 1px 2px rgba(0, 0, 0, 0.3));\n",
              "      fill: #FFFFFF;\n",
              "    }\n",
              "  </style>\n",
              "\n",
              "      <script>\n",
              "        const buttonEl =\n",
              "          document.querySelector('#df-f8c5a054-d77b-4809-ad80-4f472b7abdf8 button.colab-df-convert');\n",
              "        buttonEl.style.display =\n",
              "          google.colab.kernel.accessAllowed ? 'block' : 'none';\n",
              "\n",
              "        async function convertToInteractive(key) {\n",
              "          const element = document.querySelector('#df-f8c5a054-d77b-4809-ad80-4f472b7abdf8');\n",
              "          const dataTable =\n",
              "            await google.colab.kernel.invokeFunction('convertToInteractive',\n",
              "                                                     [key], {});\n",
              "          if (!dataTable) return;\n",
              "\n",
              "          const docLinkHtml = 'Like what you see? Visit the ' +\n",
              "            '<a target=\"_blank\" href=https://colab.research.google.com/notebooks/data_table.ipynb>data table notebook</a>'\n",
              "            + ' to learn more about interactive tables.';\n",
              "          element.innerHTML = '';\n",
              "          dataTable['output_type'] = 'display_data';\n",
              "          await google.colab.output.renderOutput(dataTable, element);\n",
              "          const docLink = document.createElement('div');\n",
              "          docLink.innerHTML = docLinkHtml;\n",
              "          element.appendChild(docLink);\n",
              "        }\n",
              "      </script>\n",
              "    </div>\n",
              "  </div>\n",
              "  "
            ]
          },
          "metadata": {},
          "execution_count": 3
        }
      ],
      "source": [
        "df"
      ]
    },
    {
      "cell_type": "code",
      "source": [
        "#Added a row for predicting the stock price of next day\n",
        "data={'Open':0, 'High':0, 'Low':0, 'Close':0, 'Adj Close':0, 'Volume':0}\n",
        "df=df.append(pd.DataFrame(data, index=['2022-07-13 00:00:00'])) #Add next date to last date"
      ],
      "metadata": {
        "id": "G7IjEhhLxaWl"
      },
      "id": "G7IjEhhLxaWl",
      "execution_count": 4,
      "outputs": []
    },
    {
      "cell_type": "code",
      "execution_count": 5,
      "id": "07ccda9e",
      "metadata": {
        "id": "07ccda9e"
      },
      "outputs": [],
      "source": [
        "#Creating a function for making n (n=lags) number of independent variables which will used to predict dependent variable \n",
        "def lagit(df, lags):\n",
        "    names = []\n",
        "    for i in range(1,lags+1):\n",
        "        df['Lag_'+str(i)]=df['Close'].shift(i)\n",
        "        names.append('Lag_'+str(i))\n",
        "    return names"
      ]
    },
    {
      "cell_type": "code",
      "execution_count": 6,
      "id": "d44bc96a",
      "metadata": {
        "id": "d44bc96a"
      },
      "outputs": [],
      "source": [
        "#Setting number of independent variables (lags)\n",
        "lagnames=lagit(df,7)"
      ]
    },
    {
      "cell_type": "code",
      "execution_count": 7,
      "id": "d1284439",
      "metadata": {
        "colab": {
          "base_uri": "https://localhost:8080/"
        },
        "id": "d1284439",
        "outputId": "587db138-60ac-4830-d366-2dd9c77997c7"
      },
      "outputs": [
        {
          "output_type": "execute_result",
          "data": {
            "text/plain": [
              "['Lag_1', 'Lag_2', 'Lag_3', 'Lag_4', 'Lag_5', 'Lag_6', 'Lag_7']"
            ]
          },
          "metadata": {},
          "execution_count": 7
        }
      ],
      "source": [
        "#Printing lags\n",
        "lagnames"
      ]
    },
    {
      "cell_type": "code",
      "execution_count": 8,
      "id": "89f080c6",
      "metadata": {
        "colab": {
          "base_uri": "https://localhost:8080/",
          "height": 835
        },
        "id": "89f080c6",
        "outputId": "25c35039-978a-49e0-82c4-60c1589daecb"
      },
      "outputs": [
        {
          "output_type": "execute_result",
          "data": {
            "text/plain": [
              "                             Open          High           Low         Close  \\\n",
              "2010-01-04 00:00:00  17473.449219  17582.839844  17378.380859  17558.730469   \n",
              "2010-01-05 00:00:00  17555.769531  17729.779297  17555.769531  17686.240234   \n",
              "2010-01-06 00:00:00  17719.470703  17790.330078  17636.710938  17701.130859   \n",
              "2010-01-07 00:00:00  17701.970703  17733.339844  17566.539062  17615.720703   \n",
              "2010-01-08 00:00:00  17603.869141  17658.119141  17508.960938  17540.289062   \n",
              "...                           ...           ...           ...           ...   \n",
              "2022-07-07 00:00:00  54146.679688  54254.789062  53927.261719  54178.460938   \n",
              "2022-07-08 00:00:00  54574.429688  54627.140625  54278.769531  54481.839844   \n",
              "2022-07-11 00:00:00  54248.601562  54527.898438  54090.531250  54395.230469   \n",
              "2022-07-12 00:00:00  54219.781250  54236.488281  53824.968750  53886.609375   \n",
              "2022-07-13 00:00:00      0.000000      0.000000      0.000000      0.000000   \n",
              "\n",
              "                        Adj Close  Volume         Lag_1         Lag_2  \\\n",
              "2010-01-04 00:00:00  17558.730469   28200           NaN           NaN   \n",
              "2010-01-05 00:00:00  17686.240234   27000  17558.730469           NaN   \n",
              "2010-01-06 00:00:00  17701.130859   21400  17686.240234  17558.730469   \n",
              "2010-01-07 00:00:00  17615.720703   18000  17701.130859  17686.240234   \n",
              "2010-01-08 00:00:00  17540.289062   17200  17615.720703  17701.130859   \n",
              "...                           ...     ...           ...           ...   \n",
              "2022-07-07 00:00:00  54178.460938    7500  53750.968750  53134.351562   \n",
              "2022-07-08 00:00:00  54481.839844    7500  54178.460938  53750.968750   \n",
              "2022-07-11 00:00:00  54395.230469    6100  54481.839844  54178.460938   \n",
              "2022-07-12 00:00:00  53886.609375       0  54395.230469  54481.839844   \n",
              "2022-07-13 00:00:00      0.000000       0  53886.609375  54395.230469   \n",
              "\n",
              "                            Lag_3         Lag_4         Lag_5         Lag_6  \\\n",
              "2010-01-04 00:00:00           NaN           NaN           NaN           NaN   \n",
              "2010-01-05 00:00:00           NaN           NaN           NaN           NaN   \n",
              "2010-01-06 00:00:00           NaN           NaN           NaN           NaN   \n",
              "2010-01-07 00:00:00  17558.730469           NaN           NaN           NaN   \n",
              "2010-01-08 00:00:00  17686.240234  17558.730469           NaN           NaN   \n",
              "...                           ...           ...           ...           ...   \n",
              "2022-07-07 00:00:00  53234.769531  52907.929688  53018.941406  53026.968750   \n",
              "2022-07-08 00:00:00  53134.351562  53234.769531  52907.929688  53018.941406   \n",
              "2022-07-11 00:00:00  53750.968750  53134.351562  53234.769531  52907.929688   \n",
              "2022-07-12 00:00:00  54178.460938  53750.968750  53134.351562  53234.769531   \n",
              "2022-07-13 00:00:00  54481.839844  54178.460938  53750.968750  53134.351562   \n",
              "\n",
              "                            Lag_7  \n",
              "2010-01-04 00:00:00           NaN  \n",
              "2010-01-05 00:00:00           NaN  \n",
              "2010-01-06 00:00:00           NaN  \n",
              "2010-01-07 00:00:00           NaN  \n",
              "2010-01-08 00:00:00           NaN  \n",
              "...                           ...  \n",
              "2022-07-07 00:00:00  53177.449219  \n",
              "2022-07-08 00:00:00  53026.968750  \n",
              "2022-07-11 00:00:00  53018.941406  \n",
              "2022-07-12 00:00:00  52907.929688  \n",
              "2022-07-13 00:00:00  53234.769531  \n",
              "\n",
              "[3080 rows x 13 columns]"
            ],
            "text/html": [
              "\n",
              "  <div id=\"df-4d91fede-97b5-4da2-beee-f2e885571743\">\n",
              "    <div class=\"colab-df-container\">\n",
              "      <div>\n",
              "<style scoped>\n",
              "    .dataframe tbody tr th:only-of-type {\n",
              "        vertical-align: middle;\n",
              "    }\n",
              "\n",
              "    .dataframe tbody tr th {\n",
              "        vertical-align: top;\n",
              "    }\n",
              "\n",
              "    .dataframe thead th {\n",
              "        text-align: right;\n",
              "    }\n",
              "</style>\n",
              "<table border=\"1\" class=\"dataframe\">\n",
              "  <thead>\n",
              "    <tr style=\"text-align: right;\">\n",
              "      <th></th>\n",
              "      <th>Open</th>\n",
              "      <th>High</th>\n",
              "      <th>Low</th>\n",
              "      <th>Close</th>\n",
              "      <th>Adj Close</th>\n",
              "      <th>Volume</th>\n",
              "      <th>Lag_1</th>\n",
              "      <th>Lag_2</th>\n",
              "      <th>Lag_3</th>\n",
              "      <th>Lag_4</th>\n",
              "      <th>Lag_5</th>\n",
              "      <th>Lag_6</th>\n",
              "      <th>Lag_7</th>\n",
              "    </tr>\n",
              "  </thead>\n",
              "  <tbody>\n",
              "    <tr>\n",
              "      <th>2010-01-04 00:00:00</th>\n",
              "      <td>17473.449219</td>\n",
              "      <td>17582.839844</td>\n",
              "      <td>17378.380859</td>\n",
              "      <td>17558.730469</td>\n",
              "      <td>17558.730469</td>\n",
              "      <td>28200</td>\n",
              "      <td>NaN</td>\n",
              "      <td>NaN</td>\n",
              "      <td>NaN</td>\n",
              "      <td>NaN</td>\n",
              "      <td>NaN</td>\n",
              "      <td>NaN</td>\n",
              "      <td>NaN</td>\n",
              "    </tr>\n",
              "    <tr>\n",
              "      <th>2010-01-05 00:00:00</th>\n",
              "      <td>17555.769531</td>\n",
              "      <td>17729.779297</td>\n",
              "      <td>17555.769531</td>\n",
              "      <td>17686.240234</td>\n",
              "      <td>17686.240234</td>\n",
              "      <td>27000</td>\n",
              "      <td>17558.730469</td>\n",
              "      <td>NaN</td>\n",
              "      <td>NaN</td>\n",
              "      <td>NaN</td>\n",
              "      <td>NaN</td>\n",
              "      <td>NaN</td>\n",
              "      <td>NaN</td>\n",
              "    </tr>\n",
              "    <tr>\n",
              "      <th>2010-01-06 00:00:00</th>\n",
              "      <td>17719.470703</td>\n",
              "      <td>17790.330078</td>\n",
              "      <td>17636.710938</td>\n",
              "      <td>17701.130859</td>\n",
              "      <td>17701.130859</td>\n",
              "      <td>21400</td>\n",
              "      <td>17686.240234</td>\n",
              "      <td>17558.730469</td>\n",
              "      <td>NaN</td>\n",
              "      <td>NaN</td>\n",
              "      <td>NaN</td>\n",
              "      <td>NaN</td>\n",
              "      <td>NaN</td>\n",
              "    </tr>\n",
              "    <tr>\n",
              "      <th>2010-01-07 00:00:00</th>\n",
              "      <td>17701.970703</td>\n",
              "      <td>17733.339844</td>\n",
              "      <td>17566.539062</td>\n",
              "      <td>17615.720703</td>\n",
              "      <td>17615.720703</td>\n",
              "      <td>18000</td>\n",
              "      <td>17701.130859</td>\n",
              "      <td>17686.240234</td>\n",
              "      <td>17558.730469</td>\n",
              "      <td>NaN</td>\n",
              "      <td>NaN</td>\n",
              "      <td>NaN</td>\n",
              "      <td>NaN</td>\n",
              "    </tr>\n",
              "    <tr>\n",
              "      <th>2010-01-08 00:00:00</th>\n",
              "      <td>17603.869141</td>\n",
              "      <td>17658.119141</td>\n",
              "      <td>17508.960938</td>\n",
              "      <td>17540.289062</td>\n",
              "      <td>17540.289062</td>\n",
              "      <td>17200</td>\n",
              "      <td>17615.720703</td>\n",
              "      <td>17701.130859</td>\n",
              "      <td>17686.240234</td>\n",
              "      <td>17558.730469</td>\n",
              "      <td>NaN</td>\n",
              "      <td>NaN</td>\n",
              "      <td>NaN</td>\n",
              "    </tr>\n",
              "    <tr>\n",
              "      <th>...</th>\n",
              "      <td>...</td>\n",
              "      <td>...</td>\n",
              "      <td>...</td>\n",
              "      <td>...</td>\n",
              "      <td>...</td>\n",
              "      <td>...</td>\n",
              "      <td>...</td>\n",
              "      <td>...</td>\n",
              "      <td>...</td>\n",
              "      <td>...</td>\n",
              "      <td>...</td>\n",
              "      <td>...</td>\n",
              "      <td>...</td>\n",
              "    </tr>\n",
              "    <tr>\n",
              "      <th>2022-07-07 00:00:00</th>\n",
              "      <td>54146.679688</td>\n",
              "      <td>54254.789062</td>\n",
              "      <td>53927.261719</td>\n",
              "      <td>54178.460938</td>\n",
              "      <td>54178.460938</td>\n",
              "      <td>7500</td>\n",
              "      <td>53750.968750</td>\n",
              "      <td>53134.351562</td>\n",
              "      <td>53234.769531</td>\n",
              "      <td>52907.929688</td>\n",
              "      <td>53018.941406</td>\n",
              "      <td>53026.968750</td>\n",
              "      <td>53177.449219</td>\n",
              "    </tr>\n",
              "    <tr>\n",
              "      <th>2022-07-08 00:00:00</th>\n",
              "      <td>54574.429688</td>\n",
              "      <td>54627.140625</td>\n",
              "      <td>54278.769531</td>\n",
              "      <td>54481.839844</td>\n",
              "      <td>54481.839844</td>\n",
              "      <td>7500</td>\n",
              "      <td>54178.460938</td>\n",
              "      <td>53750.968750</td>\n",
              "      <td>53134.351562</td>\n",
              "      <td>53234.769531</td>\n",
              "      <td>52907.929688</td>\n",
              "      <td>53018.941406</td>\n",
              "      <td>53026.968750</td>\n",
              "    </tr>\n",
              "    <tr>\n",
              "      <th>2022-07-11 00:00:00</th>\n",
              "      <td>54248.601562</td>\n",
              "      <td>54527.898438</td>\n",
              "      <td>54090.531250</td>\n",
              "      <td>54395.230469</td>\n",
              "      <td>54395.230469</td>\n",
              "      <td>6100</td>\n",
              "      <td>54481.839844</td>\n",
              "      <td>54178.460938</td>\n",
              "      <td>53750.968750</td>\n",
              "      <td>53134.351562</td>\n",
              "      <td>53234.769531</td>\n",
              "      <td>52907.929688</td>\n",
              "      <td>53018.941406</td>\n",
              "    </tr>\n",
              "    <tr>\n",
              "      <th>2022-07-12 00:00:00</th>\n",
              "      <td>54219.781250</td>\n",
              "      <td>54236.488281</td>\n",
              "      <td>53824.968750</td>\n",
              "      <td>53886.609375</td>\n",
              "      <td>53886.609375</td>\n",
              "      <td>0</td>\n",
              "      <td>54395.230469</td>\n",
              "      <td>54481.839844</td>\n",
              "      <td>54178.460938</td>\n",
              "      <td>53750.968750</td>\n",
              "      <td>53134.351562</td>\n",
              "      <td>53234.769531</td>\n",
              "      <td>52907.929688</td>\n",
              "    </tr>\n",
              "    <tr>\n",
              "      <th>2022-07-13 00:00:00</th>\n",
              "      <td>0.000000</td>\n",
              "      <td>0.000000</td>\n",
              "      <td>0.000000</td>\n",
              "      <td>0.000000</td>\n",
              "      <td>0.000000</td>\n",
              "      <td>0</td>\n",
              "      <td>53886.609375</td>\n",
              "      <td>54395.230469</td>\n",
              "      <td>54481.839844</td>\n",
              "      <td>54178.460938</td>\n",
              "      <td>53750.968750</td>\n",
              "      <td>53134.351562</td>\n",
              "      <td>53234.769531</td>\n",
              "    </tr>\n",
              "  </tbody>\n",
              "</table>\n",
              "<p>3080 rows × 13 columns</p>\n",
              "</div>\n",
              "      <button class=\"colab-df-convert\" onclick=\"convertToInteractive('df-4d91fede-97b5-4da2-beee-f2e885571743')\"\n",
              "              title=\"Convert this dataframe to an interactive table.\"\n",
              "              style=\"display:none;\">\n",
              "        \n",
              "  <svg xmlns=\"http://www.w3.org/2000/svg\" height=\"24px\"viewBox=\"0 0 24 24\"\n",
              "       width=\"24px\">\n",
              "    <path d=\"M0 0h24v24H0V0z\" fill=\"none\"/>\n",
              "    <path d=\"M18.56 5.44l.94 2.06.94-2.06 2.06-.94-2.06-.94-.94-2.06-.94 2.06-2.06.94zm-11 1L8.5 8.5l.94-2.06 2.06-.94-2.06-.94L8.5 2.5l-.94 2.06-2.06.94zm10 10l.94 2.06.94-2.06 2.06-.94-2.06-.94-.94-2.06-.94 2.06-2.06.94z\"/><path d=\"M17.41 7.96l-1.37-1.37c-.4-.4-.92-.59-1.43-.59-.52 0-1.04.2-1.43.59L10.3 9.45l-7.72 7.72c-.78.78-.78 2.05 0 2.83L4 21.41c.39.39.9.59 1.41.59.51 0 1.02-.2 1.41-.59l7.78-7.78 2.81-2.81c.8-.78.8-2.07 0-2.86zM5.41 20L4 18.59l7.72-7.72 1.47 1.35L5.41 20z\"/>\n",
              "  </svg>\n",
              "      </button>\n",
              "      \n",
              "  <style>\n",
              "    .colab-df-container {\n",
              "      display:flex;\n",
              "      flex-wrap:wrap;\n",
              "      gap: 12px;\n",
              "    }\n",
              "\n",
              "    .colab-df-convert {\n",
              "      background-color: #E8F0FE;\n",
              "      border: none;\n",
              "      border-radius: 50%;\n",
              "      cursor: pointer;\n",
              "      display: none;\n",
              "      fill: #1967D2;\n",
              "      height: 32px;\n",
              "      padding: 0 0 0 0;\n",
              "      width: 32px;\n",
              "    }\n",
              "\n",
              "    .colab-df-convert:hover {\n",
              "      background-color: #E2EBFA;\n",
              "      box-shadow: 0px 1px 2px rgba(60, 64, 67, 0.3), 0px 1px 3px 1px rgba(60, 64, 67, 0.15);\n",
              "      fill: #174EA6;\n",
              "    }\n",
              "\n",
              "    [theme=dark] .colab-df-convert {\n",
              "      background-color: #3B4455;\n",
              "      fill: #D2E3FC;\n",
              "    }\n",
              "\n",
              "    [theme=dark] .colab-df-convert:hover {\n",
              "      background-color: #434B5C;\n",
              "      box-shadow: 0px 1px 3px 1px rgba(0, 0, 0, 0.15);\n",
              "      filter: drop-shadow(0px 1px 2px rgba(0, 0, 0, 0.3));\n",
              "      fill: #FFFFFF;\n",
              "    }\n",
              "  </style>\n",
              "\n",
              "      <script>\n",
              "        const buttonEl =\n",
              "          document.querySelector('#df-4d91fede-97b5-4da2-beee-f2e885571743 button.colab-df-convert');\n",
              "        buttonEl.style.display =\n",
              "          google.colab.kernel.accessAllowed ? 'block' : 'none';\n",
              "\n",
              "        async function convertToInteractive(key) {\n",
              "          const element = document.querySelector('#df-4d91fede-97b5-4da2-beee-f2e885571743');\n",
              "          const dataTable =\n",
              "            await google.colab.kernel.invokeFunction('convertToInteractive',\n",
              "                                                     [key], {});\n",
              "          if (!dataTable) return;\n",
              "\n",
              "          const docLinkHtml = 'Like what you see? Visit the ' +\n",
              "            '<a target=\"_blank\" href=https://colab.research.google.com/notebooks/data_table.ipynb>data table notebook</a>'\n",
              "            + ' to learn more about interactive tables.';\n",
              "          element.innerHTML = '';\n",
              "          dataTable['output_type'] = 'display_data';\n",
              "          await google.colab.output.renderOutput(dataTable, element);\n",
              "          const docLink = document.createElement('div');\n",
              "          docLink.innerHTML = docLinkHtml;\n",
              "          element.appendChild(docLink);\n",
              "        }\n",
              "      </script>\n",
              "    </div>\n",
              "  </div>\n",
              "  "
            ]
          },
          "metadata": {},
          "execution_count": 8
        }
      ],
      "source": [
        "df"
      ]
    },
    {
      "cell_type": "code",
      "execution_count": 9,
      "id": "295378dd",
      "metadata": {
        "id": "295378dd"
      },
      "outputs": [],
      "source": [
        "#Dropping all the rows containing NA values\n",
        "df.dropna(inplace=True)"
      ]
    },
    {
      "cell_type": "code",
      "execution_count": 10,
      "id": "2d5d3b49",
      "metadata": {
        "id": "2d5d3b49"
      },
      "outputs": [],
      "source": [
        "from sklearn.linear_model import LinearRegression\n",
        "from sklearn.model_selection import train_test_split"
      ]
    },
    {
      "cell_type": "code",
      "execution_count": 11,
      "id": "06de63fd",
      "metadata": {
        "id": "06de63fd"
      },
      "outputs": [],
      "source": [
        "X=df[lagnames]\n",
        "y=df['Close']\n",
        "X_train, X_test, y_train, y_test=train_test_split(X, y, test_size=0.3, random_state=0, shuffle=False)"
      ]
    },
    {
      "cell_type": "code",
      "execution_count": 12,
      "id": "14150a36",
      "metadata": {
        "id": "14150a36"
      },
      "outputs": [],
      "source": [
        "model=LinearRegression()"
      ]
    },
    {
      "cell_type": "code",
      "execution_count": 13,
      "id": "0116401d",
      "metadata": {
        "colab": {
          "base_uri": "https://localhost:8080/"
        },
        "id": "0116401d",
        "outputId": "a4d55191-b7d1-4962-9219-f33e82f1e812"
      },
      "outputs": [
        {
          "output_type": "execute_result",
          "data": {
            "text/plain": [
              "LinearRegression()"
            ]
          },
          "metadata": {},
          "execution_count": 13
        }
      ],
      "source": [
        "#Training the data\n",
        "model.fit(X_train, y_train)"
      ]
    },
    {
      "cell_type": "code",
      "execution_count": 14,
      "id": "9121b543",
      "metadata": {
        "colab": {
          "base_uri": "https://localhost:8080/"
        },
        "id": "9121b543",
        "outputId": "248c028b-2042-41ea-a051-742cb248123e"
      },
      "outputs": [
        {
          "output_type": "stream",
          "name": "stdout",
          "text": [
            "                            Lag_1         Lag_2         Lag_3         Lag_4  \\\n",
            "2018-10-12 00:00:00  34001.148438  34760.890625  34299.468750  34474.378906   \n",
            "2018-10-15 00:00:00  34733.578125  34001.148438  34760.890625  34299.468750   \n",
            "2018-10-16 00:00:00  34865.101562  34733.578125  34001.148438  34760.890625   \n",
            "2018-10-17 00:00:00  35162.480469  34865.101562  34733.578125  34001.148438   \n",
            "2018-10-19 00:00:00  34779.578125  35162.480469  34865.101562  34733.578125   \n",
            "...                           ...           ...           ...           ...   \n",
            "2022-07-07 00:00:00  53750.968750  53134.351562  53234.769531  52907.929688   \n",
            "2022-07-08 00:00:00  54178.460938  53750.968750  53134.351562  53234.769531   \n",
            "2022-07-11 00:00:00  54481.839844  54178.460938  53750.968750  53134.351562   \n",
            "2022-07-12 00:00:00  54395.230469  54481.839844  54178.460938  53750.968750   \n",
            "2022-07-13 00:00:00  53886.609375  54395.230469  54481.839844  54178.460938   \n",
            "\n",
            "                            Lag_5         Lag_6         Lag_7  \n",
            "2018-10-12 00:00:00  34376.988281  35169.160156  35975.628906  \n",
            "2018-10-15 00:00:00  34474.378906  34376.988281  35169.160156  \n",
            "2018-10-16 00:00:00  34299.468750  34474.378906  34376.988281  \n",
            "2018-10-17 00:00:00  34760.890625  34299.468750  34474.378906  \n",
            "2018-10-19 00:00:00  34001.148438  34760.890625  34299.468750  \n",
            "...                           ...           ...           ...  \n",
            "2022-07-07 00:00:00  53018.941406  53026.968750  53177.449219  \n",
            "2022-07-08 00:00:00  52907.929688  53018.941406  53026.968750  \n",
            "2022-07-11 00:00:00  53234.769531  52907.929688  53018.941406  \n",
            "2022-07-12 00:00:00  53134.351562  53234.769531  52907.929688  \n",
            "2022-07-13 00:00:00  53750.968750  53134.351562  53234.769531  \n",
            "\n",
            "[922 rows x 7 columns]\n"
          ]
        }
      ],
      "source": [
        "print(X_test)"
      ]
    },
    {
      "cell_type": "code",
      "source": [
        "print(y_test)"
      ],
      "metadata": {
        "colab": {
          "base_uri": "https://localhost:8080/"
        },
        "id": "VE3Q26FQEVEn",
        "outputId": "e0164dfa-b1d3-48f8-bfe4-cad6357d6ea3"
      },
      "id": "VE3Q26FQEVEn",
      "execution_count": 15,
      "outputs": [
        {
          "output_type": "stream",
          "name": "stdout",
          "text": [
            "2018-10-12 00:00:00    34733.578125\n",
            "2018-10-15 00:00:00    34865.101562\n",
            "2018-10-16 00:00:00    35162.480469\n",
            "2018-10-17 00:00:00    34779.578125\n",
            "2018-10-19 00:00:00    34315.628906\n",
            "                           ...     \n",
            "2022-07-07 00:00:00    54178.460938\n",
            "2022-07-08 00:00:00    54481.839844\n",
            "2022-07-11 00:00:00    54395.230469\n",
            "2022-07-12 00:00:00    53886.609375\n",
            "2022-07-13 00:00:00        0.000000\n",
            "Name: Close, Length: 922, dtype: float64\n"
          ]
        }
      ]
    },
    {
      "cell_type": "code",
      "execution_count": 16,
      "id": "3458b1fa",
      "metadata": {
        "colab": {
          "base_uri": "https://localhost:8080/",
          "height": 424
        },
        "id": "3458b1fa",
        "outputId": "d40fcecf-f8ed-445a-f53d-5a1f934a589b"
      },
      "outputs": [
        {
          "output_type": "execute_result",
          "data": {
            "text/plain": [
              "                            Close     Predicted\n",
              "2018-10-12 00:00:00  34733.578125  33930.795478\n",
              "2018-10-15 00:00:00  34865.101562  34820.879311\n",
              "2018-10-16 00:00:00  35162.480469  34852.877443\n",
              "2018-10-17 00:00:00  34779.578125  35205.654913\n",
              "2018-10-19 00:00:00  34315.628906  34730.119517\n",
              "...                           ...           ...\n",
              "2022-07-07 00:00:00  54178.460938  53804.776843\n",
              "2022-07-08 00:00:00  54481.839844  54192.102859\n",
              "2022-07-11 00:00:00  54395.230469  54500.914038\n",
              "2022-07-12 00:00:00  53886.609375  54369.185269\n",
              "2022-07-13 00:00:00      0.000000  53840.099306\n",
              "\n",
              "[922 rows x 2 columns]"
            ],
            "text/html": [
              "\n",
              "  <div id=\"df-05684247-2316-476c-ba7a-87788a03123e\">\n",
              "    <div class=\"colab-df-container\">\n",
              "      <div>\n",
              "<style scoped>\n",
              "    .dataframe tbody tr th:only-of-type {\n",
              "        vertical-align: middle;\n",
              "    }\n",
              "\n",
              "    .dataframe tbody tr th {\n",
              "        vertical-align: top;\n",
              "    }\n",
              "\n",
              "    .dataframe thead th {\n",
              "        text-align: right;\n",
              "    }\n",
              "</style>\n",
              "<table border=\"1\" class=\"dataframe\">\n",
              "  <thead>\n",
              "    <tr style=\"text-align: right;\">\n",
              "      <th></th>\n",
              "      <th>Close</th>\n",
              "      <th>Predicted</th>\n",
              "    </tr>\n",
              "  </thead>\n",
              "  <tbody>\n",
              "    <tr>\n",
              "      <th>2018-10-12 00:00:00</th>\n",
              "      <td>34733.578125</td>\n",
              "      <td>33930.795478</td>\n",
              "    </tr>\n",
              "    <tr>\n",
              "      <th>2018-10-15 00:00:00</th>\n",
              "      <td>34865.101562</td>\n",
              "      <td>34820.879311</td>\n",
              "    </tr>\n",
              "    <tr>\n",
              "      <th>2018-10-16 00:00:00</th>\n",
              "      <td>35162.480469</td>\n",
              "      <td>34852.877443</td>\n",
              "    </tr>\n",
              "    <tr>\n",
              "      <th>2018-10-17 00:00:00</th>\n",
              "      <td>34779.578125</td>\n",
              "      <td>35205.654913</td>\n",
              "    </tr>\n",
              "    <tr>\n",
              "      <th>2018-10-19 00:00:00</th>\n",
              "      <td>34315.628906</td>\n",
              "      <td>34730.119517</td>\n",
              "    </tr>\n",
              "    <tr>\n",
              "      <th>...</th>\n",
              "      <td>...</td>\n",
              "      <td>...</td>\n",
              "    </tr>\n",
              "    <tr>\n",
              "      <th>2022-07-07 00:00:00</th>\n",
              "      <td>54178.460938</td>\n",
              "      <td>53804.776843</td>\n",
              "    </tr>\n",
              "    <tr>\n",
              "      <th>2022-07-08 00:00:00</th>\n",
              "      <td>54481.839844</td>\n",
              "      <td>54192.102859</td>\n",
              "    </tr>\n",
              "    <tr>\n",
              "      <th>2022-07-11 00:00:00</th>\n",
              "      <td>54395.230469</td>\n",
              "      <td>54500.914038</td>\n",
              "    </tr>\n",
              "    <tr>\n",
              "      <th>2022-07-12 00:00:00</th>\n",
              "      <td>53886.609375</td>\n",
              "      <td>54369.185269</td>\n",
              "    </tr>\n",
              "    <tr>\n",
              "      <th>2022-07-13 00:00:00</th>\n",
              "      <td>0.000000</td>\n",
              "      <td>53840.099306</td>\n",
              "    </tr>\n",
              "  </tbody>\n",
              "</table>\n",
              "<p>922 rows × 2 columns</p>\n",
              "</div>\n",
              "      <button class=\"colab-df-convert\" onclick=\"convertToInteractive('df-05684247-2316-476c-ba7a-87788a03123e')\"\n",
              "              title=\"Convert this dataframe to an interactive table.\"\n",
              "              style=\"display:none;\">\n",
              "        \n",
              "  <svg xmlns=\"http://www.w3.org/2000/svg\" height=\"24px\"viewBox=\"0 0 24 24\"\n",
              "       width=\"24px\">\n",
              "    <path d=\"M0 0h24v24H0V0z\" fill=\"none\"/>\n",
              "    <path d=\"M18.56 5.44l.94 2.06.94-2.06 2.06-.94-2.06-.94-.94-2.06-.94 2.06-2.06.94zm-11 1L8.5 8.5l.94-2.06 2.06-.94-2.06-.94L8.5 2.5l-.94 2.06-2.06.94zm10 10l.94 2.06.94-2.06 2.06-.94-2.06-.94-.94-2.06-.94 2.06-2.06.94z\"/><path d=\"M17.41 7.96l-1.37-1.37c-.4-.4-.92-.59-1.43-.59-.52 0-1.04.2-1.43.59L10.3 9.45l-7.72 7.72c-.78.78-.78 2.05 0 2.83L4 21.41c.39.39.9.59 1.41.59.51 0 1.02-.2 1.41-.59l7.78-7.78 2.81-2.81c.8-.78.8-2.07 0-2.86zM5.41 20L4 18.59l7.72-7.72 1.47 1.35L5.41 20z\"/>\n",
              "  </svg>\n",
              "      </button>\n",
              "      \n",
              "  <style>\n",
              "    .colab-df-container {\n",
              "      display:flex;\n",
              "      flex-wrap:wrap;\n",
              "      gap: 12px;\n",
              "    }\n",
              "\n",
              "    .colab-df-convert {\n",
              "      background-color: #E8F0FE;\n",
              "      border: none;\n",
              "      border-radius: 50%;\n",
              "      cursor: pointer;\n",
              "      display: none;\n",
              "      fill: #1967D2;\n",
              "      height: 32px;\n",
              "      padding: 0 0 0 0;\n",
              "      width: 32px;\n",
              "    }\n",
              "\n",
              "    .colab-df-convert:hover {\n",
              "      background-color: #E2EBFA;\n",
              "      box-shadow: 0px 1px 2px rgba(60, 64, 67, 0.3), 0px 1px 3px 1px rgba(60, 64, 67, 0.15);\n",
              "      fill: #174EA6;\n",
              "    }\n",
              "\n",
              "    [theme=dark] .colab-df-convert {\n",
              "      background-color: #3B4455;\n",
              "      fill: #D2E3FC;\n",
              "    }\n",
              "\n",
              "    [theme=dark] .colab-df-convert:hover {\n",
              "      background-color: #434B5C;\n",
              "      box-shadow: 0px 1px 3px 1px rgba(0, 0, 0, 0.15);\n",
              "      filter: drop-shadow(0px 1px 2px rgba(0, 0, 0, 0.3));\n",
              "      fill: #FFFFFF;\n",
              "    }\n",
              "  </style>\n",
              "\n",
              "      <script>\n",
              "        const buttonEl =\n",
              "          document.querySelector('#df-05684247-2316-476c-ba7a-87788a03123e button.colab-df-convert');\n",
              "        buttonEl.style.display =\n",
              "          google.colab.kernel.accessAllowed ? 'block' : 'none';\n",
              "\n",
              "        async function convertToInteractive(key) {\n",
              "          const element = document.querySelector('#df-05684247-2316-476c-ba7a-87788a03123e');\n",
              "          const dataTable =\n",
              "            await google.colab.kernel.invokeFunction('convertToInteractive',\n",
              "                                                     [key], {});\n",
              "          if (!dataTable) return;\n",
              "\n",
              "          const docLinkHtml = 'Like what you see? Visit the ' +\n",
              "            '<a target=\"_blank\" href=https://colab.research.google.com/notebooks/data_table.ipynb>data table notebook</a>'\n",
              "            + ' to learn more about interactive tables.';\n",
              "          element.innerHTML = '';\n",
              "          dataTable['output_type'] = 'display_data';\n",
              "          await google.colab.output.renderOutput(dataTable, element);\n",
              "          const docLink = document.createElement('div');\n",
              "          docLink.innerHTML = docLinkHtml;\n",
              "          element.appendChild(docLink);\n",
              "        }\n",
              "      </script>\n",
              "    </div>\n",
              "  </div>\n",
              "  "
            ]
          },
          "metadata": {},
          "execution_count": 16
        }
      ],
      "source": [
        "#Predicting the close price of the stock\n",
        "y_Predict=y_test\n",
        "y_Predict=y_Predict.to_frame()\n",
        "y_Predict['Predicted']=model.predict(X_test)\n",
        "y_Predict\n",
        "#Last row contains data of price of next day"
      ]
    },
    {
      "cell_type": "code",
      "execution_count": 17,
      "id": "19825024",
      "metadata": {
        "colab": {
          "base_uri": "https://localhost:8080/",
          "height": 391
        },
        "id": "19825024",
        "outputId": "cdde77e6-2a74-4d2d-ceab-90eac68e427e"
      },
      "outputs": [
        {
          "output_type": "execute_result",
          "data": {
            "text/plain": [
              "(750.0, 967.05)"
            ]
          },
          "metadata": {},
          "execution_count": 17
        },
        {
          "output_type": "display_data",
          "data": {
            "text/plain": [
              "<Figure size 1152x432 with 1 Axes>"
            ],
            "image/png": "[encoded data removed]"
          },
          "metadata": {
            "needs_background": "light"
          }
        }
      ],
      "source": [
        "y_Predict.plot(figsize=(16,6))\n",
        "plt.xlim(750,)"
      ]
    },
    {
      "cell_type": "code",
      "execution_count": 18,
      "id": "cc17c3b4",
      "metadata": {
        "colab": {
          "base_uri": "https://localhost:8080/",
          "height": 391
        },
        "id": "cc17c3b4",
        "outputId": "dbc836ff-40bc-4e5b-b3a2-5ef1cca0dec8"
      },
      "outputs": [
        {
          "output_type": "execute_result",
          "data": {
            "text/plain": [
              "<matplotlib.axes._subplots.AxesSubplot at 0x7ff86a95ad50>"
            ]
          },
          "metadata": {},
          "execution_count": 18
        },
        {
          "output_type": "display_data",
          "data": {
            "text/plain": [
              "<Figure size 1152x432 with 1 Axes>"
            ],
            "image/png": "[encoded data removed]"
          },
          "metadata": {
            "needs_background": "light"
          }
        }
      ],
      "source": [
        "y_test.plot(figsize=(16,6))"
      ]
    },
    {
      "cell_type": "code",
      "source": [
        "#Printing the coefficient of determination (Useless)\n",
        "model.score(X_test, y_test)"
      ],
      "metadata": {
        "colab": {
          "base_uri": "https://localhost:8080/"
        },
        "id": "Km9z92qG4b02",
        "outputId": "8902d21f-c52a-44b6-882c-05050fae6179"
      },
      "id": "Km9z92qG4b02",
      "execution_count": 19,
      "outputs": [
        {
          "output_type": "execute_result",
          "data": {
            "text/plain": [
              "0.9591579486868568"
            ]
          },
          "metadata": {},
          "execution_count": 19
        }
      ]
    },
    {
      "cell_type": "code",
      "source": [
        ""
      ],
      "metadata": {
        "id": "WAn1Mq0m5Fqn"
      },
      "id": "WAn1Mq0m5Fqn",
      "execution_count": 19,
      "outputs": []
    }
  ],
  "metadata": {
    "kernelspec": {
      "display_name": "Python 3 (ipykernel)",
      "language": "python",
      "name": "python3"
    },
    "language_info": {
      "codemirror_mode": {
        "name": "ipython",
        "version": 3
      },
      "file_extension": ".py",
      "mimetype": "text/x-python",
      "name": "python",
      "nbconvert_exporter": "python",
      "pygments_lexer": "ipython3",
      "version": "3.9.12"
    },
    "colab": {
      "name": "StockPredictorApproach-2.ipynb",
      "provenance": [],
      "collapsed_sections": [],
      "include_colab_link": true
    }
  },
  "nbformat": 4,
  "nbformat_minor": 5
}